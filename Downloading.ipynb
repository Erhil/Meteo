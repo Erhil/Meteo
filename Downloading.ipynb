{
 "cells": [
  {
   "cell_type": "code",
   "execution_count": 5,
   "metadata": {
    "collapsed": false
   },
   "outputs": [],
   "source": [
    "# general libs\n",
    "import httplib2\n",
    "import numpy as np\n",
    "from io import BytesIO\n",
    "import datetime as dt\n",
    "# matplotlib plotting\n",
    "import matplotlib as mpl\n",
    "from matplotlib import colors\n",
    "from matplotlib import pyplot as plt\n",
    "import matplotlib.image as mpimg\n",
    "import matplotlib.animation as animation\n",
    "# images\n",
    "import cv2\n",
    "from PIL import Image\n",
    "# outlier detection\n",
    "from sklearn.svm import OneClassSVM\n",
    "from sklearn.ensemble import IsolationForest\n",
    "# clustering\n",
    "from sklearn.cluster import *"
   ]
  },
  {
   "cell_type": "code",
   "execution_count": 6,
   "metadata": {
    "collapsed": false
   },
   "outputs": [],
   "source": [
    "url = \"http://orm.mipt.ru/archive/port\"\n",
    "port = 47\n",
    "time = dt.datetime(2016,12,18,20,50)\n",
    "delta = dt.timedelta(minutes=10)"
   ]
  },
  {
   "cell_type": "code",
   "execution_count": 3,
   "metadata": {
    "collapsed": false
   },
   "outputs": [],
   "source": [
    "#download images\n",
    "h = httplib2.Http('.cache')\n",
    "\n",
    "for i in range(100000):\n",
    "        tmp = time - delta*i\n",
    "        _, content = h.request(\"http://orm.mipt.ru/archive/port\"+ str(port) \\\n",
    "                               + \"/\" + \"{}_{}_{}_{}_{}\".format(tmp.year, tmp.month, tmp.day, tmp.hour, tmp.minute) + \".png\")\n",
    "        f = open(\"img/%d.png\" % (i,), \"wb\")\n",
    "        f.write(content)\n",
    "        f.close"
   ]
  },
  {
   "cell_type": "code",
   "execution_count": 10,
   "metadata": {
    "collapsed": false
   },
   "outputs": [],
   "source": [
    "# read images\n",
    "\n",
    "images = []\n",
    "for i in range(2000):\n",
    "    j = i\n",
    "    while True:\n",
    "        try:\n",
    "            img = mpimg.imread(\"img/%d.png\" % (j,))\n",
    "            images.append(img)\n",
    "        except:\n",
    "            j = j-1\n",
    "            continue\n",
    "        break"
   ]
  },
  {
   "cell_type": "code",
   "execution_count": null,
   "metadata": {
    "collapsed": false
   },
   "outputs": [],
   "source": [
    "maps = []\n",
    "\n",
    "colors = {(192,0,192) : 15.0,\n",
    "         (192,0,128) : 13.0,\n",
    "         (0,128,0) : 11.0,\n",
    "         (64,192,0) : 9.5,\n",
    "         (192,0,0) : 8.5,\n",
    "         (192,64,0) : 7.5,\n",
    "         (192,128,0) : 6.5,\n",
    "         (192,192,0) : 5.5,\n",
    "         (0,0,128) : 4.5,\n",
    "         (0,0,192) : 3.5,\n",
    "         (0,128,192) : 2.5,\n",
    "         (0,192,192) : 1.5,\n",
    "         (0,128,128) : 0.65,\n",
    "         (128,128,128) : 0}\n",
    "\n",
    "alt = lambda x: colors[(int(x[0]*255), int(x[1]*255), int(x[2]*255))]*255/15\n",
    "\n",
    "for i in range(len(images)):\n",
    "    try: \n",
    "        maps.append(np.apply_along_axis(alt, 2, images[i][::4,::4,:]).astype(np.uint8))\n",
    "    except:\n",
    "        maps.append(np.zeros(maps[0].shape, dtype=np.uint8))\n",
    "\n",
    "empty = np.zeros(maps[0].shape)\n",
    "for i in maps:\n",
    "    empty += i\n",
    "empty = empty/2000\n",
    "\n",
    "#fig = plt.figure(figsize=(400,400))\n",
    "#plt.axis('off')\n",
    "#plt.imshow(np.apply_along_axis(alt, 2, images[0]), interpolation = \"nearest\")\n",
    "#plt.show()"
   ]
  },
  {
   "cell_type": "code",
   "execution_count": 21,
   "metadata": {
    "collapsed": false
   },
   "outputs": [],
   "source": [
    "#save video\n",
    "fig = plt.figure()\n",
    "plt.axis('off')\n",
    "ims = [[plt.imshow(i, interpolation=\"nearest\", vmin=0, vmax=255, cmap=\"Greys\")] for i in maps]\n",
    "ani = animation.ArtistAnimation(fig, ims, interval=10, blit=True,\n",
    "    repeat_delay=1000)\n",
    "\n",
    "Writer = animation.writers['ffmpeg']\n",
    "writer = Writer(fps=30, metadata=dict(artist='Me'), bitrate=5000)\n",
    "ani.save(\"flow2000.mp4\", writer=writer)"
   ]
  },
  {
   "cell_type": "code",
   "execution_count": 27,
   "metadata": {
    "collapsed": false
   },
   "outputs": [],
   "source": [
    "#show animation\n",
    "fig = plt.figure(figsize=(400,400))\n",
    "plt.axis('off')\n",
    "ims = [[plt.imshow((i), interpolation=\"nearest\")] for i in maps]\n",
    "ani = animation.ArtistAnimation(fig, ims, interval=10, blit=True,\n",
    "    repeat_delay=1000)\n",
    "\n",
    "plt.show()"
   ]
  },
  {
   "cell_type": "code",
   "execution_count": null,
   "metadata": {
    "collapsed": false
   },
   "outputs": [],
   "source": [
    "fig = plt.figure(figsize=(400,400))\n",
    "plt.axis('off')\n",
    "plt.imshow(empty, interpolation = \"nearest\")\n",
    "plt.show()"
   ]
  },
  {
   "cell_type": "code",
   "execution_count": null,
   "metadata": {
    "collapsed": false
   },
   "outputs": [],
   "source": [
    "fig = plt.figure(figsize=(400,400))\n",
    "plt.axis('off')\n",
    "plt.imshow(maps[0] - (maps[0] != [0,0,0])*128/255, interpolation = \"nearest\")\n",
    "plt.show()"
   ]
  },
  {
   "cell_type": "code",
   "execution_count": null,
   "metadata": {
    "collapsed": false
   },
   "outputs": [],
   "source": [
    "plt.hist(empty[:,:,0].reshape(1,-1)[0], bins = 100, color=\"r\")\n",
    "plt.hist(empty[:,:,1].reshape(1,-1)[0], bins = 100, color=\"g\")\n",
    "plt.hist(empty[:,:,2].reshape(1,-1)[0], bins = 100, color=\"b\")\n",
    "plt.show()"
   ]
  },
  {
   "cell_type": "code",
   "execution_count": null,
   "metadata": {
    "collapsed": true
   },
   "outputs": [],
   "source": []
  }
 ],
 "metadata": {
  "anaconda-cloud": {},
  "kernelspec": {
   "display_name": "Python 3",
   "language": "python",
   "name": "python3"
  },
  "language_info": {
   "codemirror_mode": {
    "name": "ipython",
    "version": 3
   },
   "file_extension": ".py",
   "mimetype": "text/x-python",
   "name": "python",
   "nbconvert_exporter": "python",
   "pygments_lexer": "ipython3",
   "version": "3.6.0"
  }
 },
 "nbformat": 4,
 "nbformat_minor": 0
}
